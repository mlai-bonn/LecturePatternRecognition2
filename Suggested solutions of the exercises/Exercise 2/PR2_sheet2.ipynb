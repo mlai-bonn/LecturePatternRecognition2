{
 "cells": [
  {
   "cell_type": "markdown",
   "metadata": {},
   "source": [
    "# Exercise 2 - Groups, Complex Numbers, and Flows"
   ]
  },
  {
   "cell_type": "code",
   "execution_count": 1,
   "metadata": {},
   "outputs": [],
   "source": [
    "import numpy as np\n",
    "import scipy.linalg as la\n",
    "import matplotlib.pyplot as plt\n",
    "\n",
    "from scipy.integrate import odeint"
   ]
  },
  {
   "cell_type": "markdown",
   "metadata": {},
   "source": [
    "## Task 2.1\n",
    "\n",
    "Recall a **Group** is a tuple $(G, \\circ)$, where $G$ is a set of elements and $\\circ$ is the group law operating on elements of $G$ such that\n",
    "- $ g_1, g_2 \\in G \\Rightarrow g_1 \\circ g_2 \\in G$ (closed under $\\circ$)\n",
    "- $\\exists e \\in G\\ \\forall g \\in G: g \\circ e = e \\circ g = g$ (identity element)\n",
    "- $\\forall g \\in G\\ \\exists! g^{-1} \\in G: g \\circ g^{-1} = e$ (inverses)\n",
    "- $g_1, g_2, g_3 \\in G: (g_1 \\circ g_2) \\circ g_3 = g_1 \\circ (g_2 \\circ g_3) = g_1 \\circ g_2 \\circ g_3$ (associative)\n",
    "\n",
    "We compute the Cayley table for the dihedral group $D_3$. We first apply the operator in the row, then the operator in the column, i.e. $R_1 \\circ F_1 = F_2 \\neq F_1 \\circ R_1 = F_3$. This leads to the following table:\n",
    "\n",
    "<img src='cayley_dihedral3.png' width=\"400\" >\n",
    "\n",
    "For a group to be an Abelian Group the group law $\\circ$ needs to be commutative, i.e., $\\forall a,b \\in G:\\ a\\circ b = b \\circ a$. This would lead to a symmetric Cayley table and as one can clearly see the Cayley table for the dihedral group $D_3$ is not symmetric. \n",
    "\n",
    "From the table we can also see that each operation is represented exactly once in each row and column.\n",
    "\n",
    "Looking only at the upper left quadrant of the table we can see that $(\\{R_1, R_2, I\\}, \\circ)$ is an abelian subgroup of  $D_3$. "
   ]
  },
  {
   "cell_type": "markdown",
   "metadata": {},
   "source": [
    "## Task 2.2\n",
    "\n",
    "<img src='cayley_quaternion8.png' width=\"400\" >\n",
    "\n",
    "We can see that $Q_8$ is not abelian as well. Like in the first task we can again find subgroups of $Q_8$ that are abelian namely $(\\{1,-1,i,-i\\}, \\circ),\\ (\\{1,-1,k,-k\\}, \\circ),\\ (\\{1,-1,j,-j\\}, \\circ)$"
   ]
  },
  {
   "cell_type": "markdown",
   "metadata": {},
   "source": [
    "## Task 2.3"
   ]
  },
  {
   "cell_type": "code",
   "execution_count": 2,
   "metadata": {},
   "outputs": [
    {
     "name": "stdout",
     "output_type": "stream",
     "text": [
      "computing with complex numbers\n",
      "z1 + z2 =  (5+2j)\n",
      "z1 * z2 =  (14+2j)\n",
      "con(z1) =  (3-4j)\n",
      "abs(z1) =  5.0\n",
      "\n"
     ]
    }
   ],
   "source": [
    "# we have two ways to initialize complex variables in Python\n",
    "# calling the complex type directly:\n",
    "z1 = complex(3, +4)\n",
    "z2 = complex(2, -2)\n",
    "\n",
    "# or using syntactic sugar:\n",
    "z1 = 3 + 4j\n",
    "z2 = 2 - 2j\n",
    "\n",
    "print ('computing with complex numbers')\n",
    "print ('z1 + z2 = ', z1+z2)\n",
    "print ('z1 * z2 = ', z1*z2)\n",
    "print ('con(z1) = ', z1.conjugate())\n",
    "print ('abs(z1) = ', abs(z1))\n",
    "print ()\n",
    "\n",
    "\n"
   ]
  },
  {
   "cell_type": "code",
   "execution_count": 3,
   "metadata": {},
   "outputs": [
    {
     "name": "stdout",
     "output_type": "stream",
     "text": [
      "i*i = \n",
      "[[-1  0]\n",
      " [ 0 -1]]\n",
      "\n",
      "computing with matrix representations of complex numbers\n",
      "Z1 + Z2 = \n",
      " [[ 5 -2]\n",
      " [ 2  5]] \n",
      "\n",
      "Z1 @ Z2 = \n",
      " [[14 -2]\n",
      " [ 2 14]] \n",
      "\n",
      "Z1.T = \n",
      " [[ 3  4]\n",
      " [-4  3]] \n",
      "\n",
      "sqrt(det(Z1)) =  5.0\n",
      "\n",
      "\n",
      "\n",
      "[[ 6 -8]\n",
      " [-8  6]]\n"
     ]
    }
   ],
   "source": [
    "mat1 = np.array([[+1, 0], [0, +1]])\n",
    "mati = np.array([[0, -1], [+1, 0]])\n",
    "print(f\"i*i = \\n{mati@mati}\\n\")\n",
    "# define z1, z2 in terms of the matrices:\n",
    "matz1 = 3*mat1 + 4*mati\n",
    "matz2 = 2*mat1 - 2*mati\n",
    "\n",
    "print ('computing with matrix representations of complex numbers')\n",
    "print ('Z1 + Z2 = \\n', matz1 + matz2, '\\n')\n",
    "print ('Z1 @ Z2 = \\n', matz1 @ matz2, '\\n')\n",
    "print ('Z1.T = \\n', matz1.T, '\\n')\n",
    "print ('sqrt(det(Z1)) = ', np.sqrt(la.det(matz1)))\n",
    "print ('\\n\\n')\n",
    "print(matz1 * matz2)"
   ]
  },
  {
   "cell_type": "markdown",
   "metadata": {},
   "source": [
    "$z_1 = a + bi$\n",
    "\n",
    "$z_2 = c + di$\n",
    "\n",
    "$z_1 * z_2 = ac + adi + bci + dbii = (ac-db) + (ad+bc)i$\n",
    "\n",
    "$Z_1 = a \\begin{pmatrix}\n",
    "  1 & 0\\\\ \n",
    "  0 & 1\n",
    "\\end{pmatrix} + b \\begin{pmatrix}\n",
    "  0 & -1\\\\ \n",
    "  1 & 0\n",
    "\\end{pmatrix}\n",
    "= \\begin{pmatrix}\n",
    "  a & -b\\\\ \n",
    "  b & a\n",
    "\\end{pmatrix}$\n",
    "$, Z_2 = \\begin{pmatrix}\n",
    "  c & -d\\\\ \n",
    "  d & c\n",
    "\\end{pmatrix}$\n",
    "\n",
    "$Z_1 * Z_2 = \\begin{pmatrix}\n",
    "  ac -bd & -ad - bc\\\\ \n",
    "  ad + bc & ac -bd\n",
    "\\end{pmatrix}= \\begin{pmatrix}\n",
    "  ac - bd & -(ad + bc)\\\\ \n",
    "  ad + bc & ac -bd\n",
    "\\end{pmatrix}$\n",
    "\n",
    "We see that the product of $Z_1, Z_2$ again has the structure of a complex number in matrix form\n",
    "\n"
   ]
  },
  {
   "cell_type": "markdown",
   "metadata": {},
   "source": [
    "**Bonus task**\n",
    "\n",
    "1."
   ]
  },
  {
   "cell_type": "code",
   "execution_count": 4,
   "metadata": {},
   "outputs": [
    {
     "name": "stdout",
     "output_type": "stream",
     "text": [
      "i @ j @ k = \n",
      " [[-1  0  0  0]\n",
      " [ 0 -1  0  0]\n",
      " [ 0  0 -1  0]\n",
      " [ 0  0  0 -1]]\n",
      "\n"
     ]
    }
   ],
   "source": [
    "### unit quaternions as 4 x 4 real matrices\n",
    "mat1 = np.eye(4)\n",
    "\n",
    "mati = np.array([[0, -1, 0, 0],\n",
    "                 [+1, 0, 0, 0],\n",
    "                 [0, 0, 0, -1],\n",
    "                 [0, 0, +1, 0]])\n",
    "matj = np.array([[0, 0, -1, 0],\n",
    "                 [0, 0, 0, +1],\n",
    "                 [+1, 0, 0, 0],\n",
    "                 [0, -1, 0, 0]])\n",
    "matk = np.array([[0, 0, 0, -1],\n",
    "                 [0, 0, -1, 0],\n",
    "                 [0, +1, 0, 0],\n",
    "                 [+1, 0, 0, 0]])\n",
    "\n",
    "print ('i @ j @ k = \\n', mati @ matj @ matk)\n",
    "print ()"
   ]
  },
  {
   "cell_type": "markdown",
   "metadata": {},
   "source": [
    "2."
   ]
  },
  {
   "cell_type": "code",
   "execution_count": 5,
   "metadata": {},
   "outputs": [
    {
     "name": "stdout",
     "output_type": "stream",
     "text": [
      "i @ j @ k = \n",
      " [[-1.+0.j  0.+0.j]\n",
      " [ 0.+0.j -1.+0.j]]\n"
     ]
    }
   ],
   "source": [
    "### unit quaternions as 2 x 2 complex matrices\n",
    "mat1 = np.eye(2)\n",
    "\n",
    "###\n",
    "### NOTE: these matrices work and are a valid solution \n",
    "###\n",
    "# mati = np.array([[+1j, 0],\n",
    "#                  [0, -1j]])\n",
    "# matj = np.array([[0, +1],\n",
    "#                  [-1, 0]])\n",
    "# matk = np.array([[0, +1j],\n",
    "#                  [+1j, 0]])\n",
    "\n",
    "###\n",
    "### however, if we multiply the following matrices by i,\n",
    "### we obtain the Pauli matrices sx = i*matK, sy = i*matj, sz = i*mati\n",
    "### in this sense, these matrices constitute a more interesting solution\n",
    "###\n",
    "mati = np.array([[+1j, 0],\n",
    "                 [0, -1j]])\n",
    "matj = np.array([[0, -1],\n",
    "                 [+1, 0]])\n",
    "matk = np.array([[0, -1j],\n",
    "                 [-1j, 0]])\n",
    "\n",
    "print ('i @ j @ k = \\n', mati @ matj @ matk)"
   ]
  },
  {
   "cell_type": "markdown",
   "metadata": {},
   "source": [
    "## Task 2.4"
   ]
  },
  {
   "cell_type": "code",
   "execution_count": 16,
   "metadata": {},
   "outputs": [
    {
     "name": "stdout",
     "output_type": "stream",
     "text": [
      "3 250\n",
      "(3, 3)\n",
      "eigen values:\n",
      " [0.73945615 1.42721672 5.09333892] \n",
      "eigen vecs:\n",
      " [[ 0.35907341 -0.48255527  0.7988784 ]\n",
      " [-0.04053779 -0.86321917 -0.50319912]\n",
      " [ 0.93242854  0.14830066 -0.32952077]]\n"
     ]
    },
    {
     "data": {
      "text/plain": [
       "array([0.76930055, 0.05944852, 0.63611519])"
      ]
     },
     "execution_count": 16,
     "metadata": {},
     "output_type": "execute_result"
    }
   ],
   "source": [
    "matX = np.loadtxt('GaussianSample3D.csv', delimiter=', ')\n",
    "m, n = matX.shape\n",
    "print (m, n)\n",
    "\n",
    "C = 1/n * matX @ matX.T\n",
    "print(C.shape)\n",
    "vals, vecs = la.eigh(C)\n",
    "print(f\"eigen values:\\n {vals} \\neigen vecs:\\n {vecs}\")\n",
    "\n",
    "_w_prime = lambda w: (np.eye(w.shape[0]) - np.outer(w,w)) @ C @ w\n",
    "\n",
    "def sample_w0(dim):\n",
    "    w = np.random.rand(dim) # samples uniformly from [0, 1)\n",
    "    return w/np.linalg.norm(w)\n",
    "\n",
    "sample_w0(3)"
   ]
  },
  {
   "cell_type": "code",
   "execution_count": 17,
   "metadata": {},
   "outputs": [],
   "source": [
    "def deriv(w, t, C, I):\n",
    "    return (I - np.outer(w, w)) @ C @ w"
   ]
  },
  {
   "cell_type": "code",
   "execution_count": 47,
   "metadata": {},
   "outputs": [
    {
     "name": "stdout",
     "output_type": "stream",
     "text": [
      "eigh eigvector:\t [ 0.7988784  -0.50319912 -0.32952077]\n",
      "stable point:\t [-0.79887823  0.50319943  0.32952073]\n"
     ]
    }
   ],
   "source": [
    "### load data matrix\n",
    "matX = np.loadtxt('GaussianSample3D.csv', delimiter=', ')\n",
    "m, n = matX.shape\n",
    "# print (m,n)\n",
    "\n",
    "### compute sample covariance matrix\n",
    "matC = np.cov(matX)\n",
    "\n",
    "### compute spectral decomposition and print leading eigenvector\n",
    "vecL, matU = la.eigh(matC)\n",
    "print (f\"eigh eigvector:\\t {matU[:,-1]}\")\n",
    "\n",
    "def oja_flow(matC, vecW=None):\n",
    "    ### prepare ingredients for solving Oja's flow\n",
    "    # identity matrix\n",
    "    matI = np.eye(matC.shape[0])\n",
    "\n",
    "    # initial unit vector w(0)\n",
    "    vecW = np.ones(m) / np.sqrt(m) if vecW is None else vecW\n",
    "\n",
    "    # time steps for ODE solver\n",
    "    stps = np.linspace(0, 5, 126)\n",
    "\n",
    "    ### use odeint to solve Oja flow\n",
    "    matW = odeint(deriv, vecW, stps, (matC,matI))\n",
    "    flow = matW.T\n",
    "    return stps, flow\n",
    "stps, flow = oja_flow(matC)\n",
    "### print stable point (pint the flow converges to)\n",
    "print (f\"stable point:\\t {flow.T[-1]}\")"
   ]
  },
  {
   "cell_type": "markdown",
   "metadata": {},
   "source": [
    "We see that the Oja flow indeed yields the eigenvector (up to a factor of -1)."
   ]
  },
  {
   "cell_type": "code",
   "execution_count": 48,
   "metadata": {},
   "outputs": [
    {
     "data": {
      "image/png": "[encoded data removed]",
      "text/plain": [
       "<Figure size 432x288 with 1 Axes>"
      ]
     },
     "metadata": {},
     "output_type": "display_data"
    }
   ],
   "source": [
    "def plt_w_evolution(stps, flow):\n",
    "    ### plot the evolution over time\n",
    "    # initialize figure and axes\n",
    "    fig = plt.figure()\n",
    "    fig.patch.set_facecolor('w')\n",
    "    axs = fig.add_subplot(211, facecolor='#e0e0e0')\n",
    "\n",
    "    # nicer way of showing coordinate axes\n",
    "    for pos in ['left','bottom']:\n",
    "        axs.spines[pos].set_position('zero')\n",
    "        axs.spines[pos].set_zorder(1)\n",
    "    for pos in ['right','top']:\n",
    "        axs.spines[pos].set_visible(False)\n",
    "    axs.xaxis.set_ticks_position('bottom')\n",
    "    axs.yaxis.set_ticks_position('left')\n",
    "    axs.tick_params(direction='out')\n",
    "\n",
    "    for i, wt in enumerate(flow):\n",
    "        axs.plot(stps, wt, '-', label=r'$w_{%i}(t)$' % (i+1))\n",
    "\n",
    "    leg = axs.legend(bbox_to_anchor=(1.01,0.0,0.2,1), loc=\"upper left\",\n",
    "                     mode=\"expand\",\n",
    "                     borderaxespad=0.,\n",
    "                     facecolor='#e0e0e0', edgecolor='#e0e0e0',\n",
    "                     fancybox=False)\n",
    "\n",
    "    axs.set_xlim(-0.5, np.max(stps+0.1))\n",
    "    axs.set_ylim(-1.1, 1.1)\n",
    "    ytics = np.linspace(-1, +1, 5)\n",
    "    ylabs = ['${0:{1}}$'.format(t, '+' if t else '') for t in ytics]\n",
    "    axs.set_yticks(ytics)\n",
    "    axs.set_title(f\"stable point: {flow.T[-1]}\")\n",
    "    _ = axs.set_yticklabels(ylabs)\n",
    "\n",
    "\n",
    "\n",
    "plt_w_evolution(stps, flow)"
   ]
  },
  {
   "cell_type": "code",
   "execution_count": 49,
   "metadata": {
    "scrolled": true
   },
   "outputs": [
    {
     "name": "stdout",
     "output_type": "stream",
     "text": [
      "stable point:\t [-0.48255527 -0.86321917  0.14830066]\n",
      "stable point:\t [ 0.35907341 -0.04053779  0.93242854]\n"
     ]
    },
    {
     "data": {
      "image/png": "[encoded data removed]",
      "text/plain": [
       "<Figure size 432x288 with 1 Axes>"
      ]
     },
     "metadata": {},
     "output_type": "display_data"
    },
    {
     "data": {
      "image/png": "[encoded data removed]",
      "text/plain": [
       "<Figure size 432x288 with 1 Axes>"
      ]
     },
     "metadata": {},
     "output_type": "display_data"
    }
   ],
   "source": [
    "for i in [2, 3]:\n",
    "    stps, f = oja_flow(matC, vecW=matU[:, -i])\n",
    "    plt_w_evolution(stps, f)\n",
    "    print (f\"stable point:\\t {f.T[-1]}\")"
   ]
  },
  {
   "cell_type": "markdown",
   "metadata": {},
   "source": [
    "We see that the other eigenvectors also are stable points, but if we apply even only a little noise:"
   ]
  },
  {
   "cell_type": "code",
   "execution_count": 50,
   "metadata": {
    "scrolled": true
   },
   "outputs": [
    {
     "name": "stdout",
     "output_type": "stream",
     "text": [
      "noise: [ 1.62440251e-04 -8.81959689e-05  1.25671436e-05]\n",
      "stable point:\t [ 0.79884955 -0.50325073 -0.32951191]\n",
      "noise: [-1.35744766e-05 -2.24586307e-06  4.88464645e-05]\n",
      "stable point:\t [-0.79887393  0.50319861  0.32953239]\n"
     ]
    },
    {
     "data": {
      "image/png": "[encoded data removed]",
      "text/plain": [
       "<Figure size 432x288 with 1 Axes>"
      ]
     },
     "metadata": {},
     "output_type": "display_data"
    },
    {
     "data": {
      "image/png": "[encoded data removed]",
      "text/plain": [
       "<Figure size 432x288 with 1 Axes>"
      ]
     },
     "metadata": {},
     "output_type": "display_data"
    }
   ],
   "source": [
    "for i in [2, 3]:\n",
    "    r = np.random.normal(loc=0, scale=0.0001, size=3)\n",
    "    w = matU[:, -i] + r\n",
    "    print(f\"noise: {r}\")\n",
    "    \n",
    "    stps, f = oja_flow(matC, vecW=w)\n",
    "    plt_w_evolution(stps, f)\n",
    "    print (f\"stable point:\\t {f.T[-1]}\")"
   ]
  },
  {
   "cell_type": "markdown",
   "metadata": {},
   "source": [
    "the result converges to the first eigenvector again.\n",
    "\n",
    "A deeper mathematical analysis of the Oja Flow is beyond the scope of this course but if you are really interested these papers (the first citing the other two) may serve as a starting point:\n",
    "\n",
    "```\n",
    "Yan, Wei-Yong, Uwe Helmke, and John B. Moore. \"Global analysis of Oja's flow for neural networks.\" IEEE Transactions on Neural Networks 5.5 (1994): 674-683. \n",
    "DOI: 10.1109/72.317720\n",
    "\n",
    "Oja, Erkki. \"Simplified neuron model as a principal component analyzer.\" Journal of mathematical biology 15.3 (1982): 267-27 \n",
    "DOI: 10.1007/BF00275687\n",
    "\n",
    "Oja, Erkki, and Juha Karhunen. \"On stochastic approximation of the eigenvectors and eigenvalues of the expectation of a random matrix.\" Journal of mathematical analysis and applications 106.1 (1985): 69-84. \n",
    "DOI: 10.1016/0022-247X(85)90131-3\n",
    "```\n"
   ]
  },
  {
   "cell_type": "markdown",
   "metadata": {},
   "source": [
    "## Task 2.5\n",
    "\n",
    "**Oja flow is isometric**\n",
    "\n",
    "Prove that if\n",
    "\n",
    "$\\dot{w} = (\\mathbf{I} - ww^T) Cw$\n",
    "\n",
    "start with a unit vector $w(0) = w_0$ s.t. $||w_0||^2 = w_0^Tw_0 = 1$ then it holds that $\\frac{d}{dt}||w||^2 = 0$.\n",
    "\n",
    "$\n",
    "\\begin{eqnarray} \n",
    "& \\frac{d}{dt}||w||^2  \\\\\\\n",
    "&=& \\frac{dw}{dt}\\frac{d}{dw}||w||^2 \\\\\\ \n",
    "&=& 2w^T\\frac{d}{dt}w \\\\\\ \n",
    "&=& 2w^T (\\mathbf{I} - ww^T)Cw \\\\\\ \n",
    "&=& 2w^TCw - 2\\underbrace{w^Tw}_{=1}w^TCw \\\\\\\n",
    "&=& 2w^TCw - 2w^TCw = 0\n",
    "\\end{eqnarray} \n",
    "$\n"
   ]
  },
  {
   "cell_type": "markdown",
   "metadata": {},
   "source": [
    "## Task 2.6"
   ]
  },
  {
   "cell_type": "code",
   "execution_count": 25,
   "metadata": {},
   "outputs": [],
   "source": [
    "def qrAlgorithm(X, tmax=10):\n",
    "    C = X.copy()\n",
    "    for _ in range(tmax):\n",
    "        Q, R = la.qr(C)\n",
    "        C = R @ Q\n",
    "\n",
    "    return C"
   ]
  },
  {
   "cell_type": "code",
   "execution_count": 58,
   "metadata": {
    "scrolled": true
   },
   "outputs": [
    {
     "name": "stdout",
     "output_type": "stream",
     "text": [
      "elements of vector x: [ 4 -3  2  7 12  1]\n",
      "diagonal of matrix Y @ 1:[ 4.         -2.99995595  2.          7.         11.99995595  1.        ]\n",
      "no log(exp(X))         1:[ 4.         -3.          2.00000002  6.99999998 12.          1.        ]\n",
      "\n",
      "diagonal of matrix Y @ 5:[ 4.00012312 11.99987688  7.          2.         -3.          1.        ]\n",
      "no log(exp(X))         5:[ 4.         -3.          2.00055165  6.99944879 11.99999956  1.        ]\n",
      "\n",
      "diagonal of matrix Y @ 10:[12.          4.00593619  6.99406381  2.         -2.99975377  0.99975376]\n",
      "no log(exp(X))         10:[ 4.         -3.          6.84098249  2.16057581 11.9984417   1.        ]\n",
      "\n",
      "diagonal of matrix Y @ 50:[12.  7.  4.  2.  1. -3.]\n",
      "no log(exp(X))         50:[11.99999995  4.00010489  6.99989517 -3.          2.          1.        ]\n",
      "\n"
     ]
    }
   ],
   "source": [
    "### a vector x whose entries are supposed to be sorted\n",
    "vecX = np.array([4, -3, 2, 7, 12, 1])\n",
    "print ('elements of vector x:', vecX)\n",
    "\n",
    "\n",
    "\n",
    "\n",
    "### create a tridiagonal matrix with x on the diagonal\n",
    "### and rather small entries on the two subdiagonals\n",
    "n   = vecX.size\n",
    "eps = 0.0001\n",
    "\n",
    "matX = np.diag(vecX) \\\n",
    "       + eps * np.diag(np.ones(n-1), +1) \\\n",
    "       + eps * np.diag(np.ones(n-1), -1)\n",
    "\n",
    "\n",
    "# print(f\"X: {matX}\")\n",
    "# ### just for the fun of it, look at the eigenvalues of X\n",
    "# vecL, matU = la.eigh(matX)\n",
    "# print ('eigenvalues of matrix X:', vecL)\n",
    "\n",
    "\n",
    "\n",
    "# use the QR algorithm to solve Toda flow which, for a\n",
    "# tridiagonal matrix X, is equivalent to Brockett flow\n",
    "# matY = la.logm(qrAlgorithm(la.expm(matX), tmax=5))\n",
    "# print ('diagonal of matrix Y:', np.diag(matY))\n",
    "# print ()\n",
    "\n",
    "\n",
    "### Solution to the actual task:\n",
    "for tmax in [1, 5, 10, 50]:\n",
    "    matY = la.logm(qrAlgorithm(la.expm(matX), tmax=tmax))\n",
    "    matY_no_logexp = qrAlgorithm(matX, tmax=tmax)\n",
    "    print (f'diagonal of matrix Y @ {tmax}:{ np.diag(matY)}')\n",
    "    print (f'no log(exp(X))         {tmax}:{ np.diag(matY_no_logexp)}')\n",
    "    print()"
   ]
  },
  {
   "cell_type": "markdown",
   "metadata": {},
   "source": [
    "We can see that the QR algorithm sorts the entries of the original vector x; if we do not apply the matrix exponential and logarithm the vector only gets sorted by absolute values.\n",
    "\n"
   ]
  }
 ],
 "metadata": {
  "kernelspec": {
   "display_name": "patternrec_kernel",
   "language": "python",
   "name": "patternrec_kernel"
  },
  "language_info": {
   "codemirror_mode": {
    "name": "ipython",
    "version": 3
   },
   "file_extension": ".py",
   "mimetype": "text/x-python",
   "name": "python",
   "nbconvert_exporter": "python",
   "pygments_lexer": "ipython3",
   "version": "3.8.5"
  }
 },
 "nbformat": 4,
 "nbformat_minor": 4
}
