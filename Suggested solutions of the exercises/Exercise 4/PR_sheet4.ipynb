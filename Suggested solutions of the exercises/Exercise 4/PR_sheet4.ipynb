{
  "nbformat": 4,
  "nbformat_minor": 0,
  "metadata": {
    "colab": {
      "name": "PR_sheet4.ipynb",
      "provenance": [],
      "collapsed_sections": [
        "6MuFBoC66M4P",
        "h58JiI_Y7QlA",
        "-fhYMe5ml7xo",
        "-1pjopJ_kZgw",
        "jf28apyekd5j"
      ],
      "include_colab_link": true
    },
    "kernelspec": {
      "display_name": "patternrec_kernel",
      "language": "python",
      "name": "patternrec_kernel"
    },
    "language_info": {
      "codemirror_mode": {
        "name": "ipython",
        "version": 3
      },
      "file_extension": ".py",
      "mimetype": "text/x-python",
      "name": "python",
      "nbconvert_exporter": "python",
      "pygments_lexer": "ipython3",
      "version": "3.8.5"
    }
  },
  "cells": [
    {
      "cell_type": "markdown",
      "metadata": {
        "id": "view-in-github",
        "colab_type": "text"
      },
      "source": [
        "<a href=\"https://colab.research.google.com/github/semueller/LecturePatternRec2_Draft/blob/main/ExercisesJupyter/exercise4/PR_sheet4.ipynb\" target=\"_parent\"><img src=\"https://colab.research.google.com/assets/colab-badge.svg\" alt=\"Open In Colab\"/></a>"
      ]
    },
    {
      "cell_type": "code",
      "metadata": {
        "id": "-UnHoHsFop-8"
      },
      "source": [
        "%matplotlib inline\n",
        "import numpy as np\n",
        "import numpy.linalg as la\n",
        "import numpy.random as rnd\n",
        "import pandas as pd\n",
        "\n",
        "import matplotlib.colors as clr\n",
        "import matplotlib.pyplot as plt\n",
        "import matplotlib.cm as cm\n",
        "\n",
        "import imageio as imageio\n",
        "\n",
        "import scipy.spatial as spt\n",
        "from scipy.sparse import diags\n",
        "from scipy.spatial.distance import cdist\n",
        "from scipy.integrate import odeint"
      ],
      "execution_count": 4,
      "outputs": []
    },
    {
      "cell_type": "markdown",
      "metadata": {
        "id": "Lx0G72bGl7xc"
      },
      "source": [
        "# Pattern Recognition 2 - Assignment 4"
      ]
    },
    {
      "cell_type": "markdown",
      "metadata": {
        "id": "6MuFBoC66M4P"
      },
      "source": [
        "---\n",
        "## Exercise 1 - The Brockett double bracket flow (part 1)"
      ]
    },
    {
      "cell_type": "markdown",
      "metadata": {
        "id": "e7L0ht3G6Vqz"
      },
      "source": [
        "In *sheet 2 task 6* you saw that the QR algorithm can sort. Some of you then asked: \n",
        "1. what is known about this phenomenon and \n",
        "2. are there are any guarantees as to the sorting capabilities of the QR algorithm?\n",
        "\n",
        "In short the answers are: \n",
        "1. rather much and \n",
        "2. yes, there are.\n",
        "\n",
        "While we will not go into details, we note that “one can show” that the QR algorithm is but a discretized version of a matrix gradient flow called the **Toda flow**. The Toda flow, in turn, is but a special case of a more general matrix gradient flow, namely **Brockett’s double bracket flow**\n",
        "$$ \\dot{H} = \\Big[ H, [H, N] \\Big] \\tag{1}$$\n",
        "where $[A, B]=AB-BA$ is the **Lie bracket**."
      ]
    },
    {
      "cell_type": "markdown",
      "metadata": {
        "id": "R4s8UQtJ7BKf"
      },
      "source": [
        "Depending on what we plug in for $H$ and $N$, the Brockett flow in can do many things. If you are interested in mathematical details, you may\n",
        "consider these papers as starting points for self-study:\n",
        "- R.W. Brockett, [“Dynamical Systems that Sort Lists and Solve Linear Programming Problems”](https://www.sciencedirect.com/science/article/pii/002437959190021N/pdf?md5=42fba9e52ca563b8d54ee742adc6ffb7&pid=1-s2.0-002437959190021N-main.pdf), Proc. IEEE Conf. on Decision and Control, 1991\n",
        "- A.M. Bloch, R.W. Brockett, and T.S. Ratiu, [“Completely Integrable Gradient Flows”](https://infoscience.epfl.ch/record/129476/files/BlBrRa1992a.pdf), Comm. in Mathematical Physics, 147, 1992"
      ]
    },
    {
      "cell_type": "markdown",
      "metadata": {
        "id": "Ha15v1baFNWu"
      },
      "source": [
        "In this task, we will see that the Brockett flow can compute the eigenvalues\n",
        "of a symmetric matrix.\n",
        "\n",
        "In the Data folder for this exercise, you will find the file `GaussianSample3D.csv` which contains a (zero mean) data matrix $X\\in\\mathbb{R}^{3\\times 250}$ whose columns $x_i$ represent 3D data points. Read this matrix into memory, compute the\n",
        "sample covariance matrix $C = \\frac{1}{n}XX^\\intercal$ and its spectral decomposition\n",
        "$C = U \\Lambda U^\\intercal$ where you ideally use `la.eigh`. Once you are done, print the diagonal of matrix $\\Lambda$."
      ]
    },
    {
      "cell_type": "code",
      "metadata": {
        "colab": {
          "base_uri": "https://localhost:8080/"
        },
        "id": "mxeg1GlAFrcv",
        "outputId": "57465ffe-2aae-41d9-8780-f837c7e8d90f"
      },
      "source": [
        "matX_data = np.loadtxt('GaussianSample3D.csv', delimiter=', ')\n",
        "# After the loading, the 3D-data points are stored in the columns\n",
        "# Lets transpose the matrix to print the first three data points\n",
        "matX_data.T[:3]"
      ],
      "execution_count": 5,
      "outputs": [
        {
          "output_type": "execute_result",
          "data": {
            "text/plain": [
              "array([[-1.88958002,  0.81381108,  0.1790249 ],\n",
              "       [-0.56661496,  0.33216665,  0.06152226],\n",
              "       [ 1.84986684,  1.53875919,  0.86953875]])"
            ]
          },
          "metadata": {
            "tags": []
          },
          "execution_count": 5
        }
      ]
    },
    {
      "cell_type": "markdown",
      "metadata": {
        "id": "sDQ5haBhsmDj"
      },
      "source": [
        "Sample covariance matrix $C = \\frac{1}{n}XX^\\intercal \\ \\in\\mathbb{R}^{3\\times 250}\\mathbb{R}^{250\\times 3} = \\mathbb{R}^{3\\times 3}$:"
      ]
    },
    {
      "cell_type": "code",
      "metadata": {
        "colab": {
          "base_uri": "https://localhost:8080/"
        },
        "id": "Vwim84qAscjR",
        "outputId": "54959d65-47c8-48ab-ab15-61bd8557263c"
      },
      "source": [
        "# matC_covariance = matX_data.T @ matX_data / matX_data.shape[0]\n",
        "matC_covariance = np.cov(matX_data)\n",
        "matC_covariance.shape"
      ],
      "execution_count": 6,
      "outputs": [
        {
          "output_type": "execute_result",
          "data": {
            "text/plain": [
              "(3, 3)"
            ]
          },
          "metadata": {
            "tags": []
          },
          "execution_count": 6
        }
      ]
    },
    {
      "cell_type": "markdown",
      "metadata": {
        "id": "nKHTxjd_suFh"
      },
      "source": [
        "Spectral decomposition\n",
        "$C = U \\Lambda U^\\intercal$:"
      ]
    },
    {
      "cell_type": "code",
      "metadata": {
        "colab": {
          "base_uri": "https://localhost:8080/"
        },
        "id": "4AOgwrdPswyV",
        "outputId": "68573dd0-fd4d-485a-cbdd-ab2ccec268a1"
      },
      "source": [
        "matU_eigen_values, matL_eigen_vectors = la.eigh(matC_covariance)\n",
        "print(f\"The eigenvalues according to 'la.eigh' are:\\n{matU_eigen_values}\")"
      ],
      "execution_count": 7,
      "outputs": [
        {
          "output_type": "stream",
          "text": [
            "The eigenvalues according to 'la.eigh' are:\n",
            "[0.74242585 1.43294852 5.11379409]\n"
          ],
          "name": "stdout"
        }
      ]
    },
    {
      "cell_type": "markdown",
      "metadata": {
        "id": "C-bTq8O48EwS"
      },
      "source": [
        "Now, consider the following matrices as the ingredients for the Brockett double bracket flow\n",
        "$$ H=C $$\n",
        "$$ N=\\begin{bmatrix} 1 & & \\\\ & 2 & \\\\ & & 3 \\end{bmatrix} $$\n",
        "and then use Scipy’s *odeint* method in order to numerically solve the first differential equation in (1)."
      ]
    },
    {
      "cell_type": "markdown",
      "metadata": {
        "id": "YR5l-o3vGCWP"
      },
      "source": [
        "**NOTE:** In *sheet 2 task 4*, you have already worked with `odeint`. In our current task, the difficulty is that `odeint` expects vector valued input but we are actually working with a matrix flow. Can you see, how to address this dif-\n",
        "ficulty? I.e. can you see how to use `odeint` to solve matrix differential equations?\n",
        "\n",
        "If all goes well, your use of `odeint` should produce a stack of matrices $H(0), . . . , H(T)$. Print the diagonal of matrix $H(T)$."
      ]
    },
    {
      "cell_type": "code",
      "metadata": {
        "colab": {
          "base_uri": "https://localhost:8080/"
        },
        "id": "dRGJqZy3vXjM",
        "outputId": "2683f6c8-414e-4054-d1d2-7e96670fc71f"
      },
      "source": [
        "# Initialize matrix H = C\n",
        "matH = matC_covariance.copy()\n",
        "matH"
      ],
      "execution_count": 8,
      "outputs": [
        {
          "output_type": "execute_result",
          "data": {
            "text/plain": [
              "array([[ 3.69305718, -1.46962992, -1.20016575],\n",
              "       [-1.46962992,  2.36383832,  0.63643859],\n",
              "       [-1.20016575,  0.63643859,  1.23227296]])"
            ]
          },
          "metadata": {
            "tags": []
          },
          "execution_count": 8
        }
      ]
    },
    {
      "cell_type": "code",
      "metadata": {
        "colab": {
          "base_uri": "https://localhost:8080/"
        },
        "id": "rgCoCdwhuEEr",
        "outputId": "dc711080-ee41-4bc7-ec2d-74dcd517aeb7"
      },
      "source": [
        "# Initialize matrix N using a vector of the diagonal elements\n",
        "diagonal = list(range(1, 4))\n",
        "matN = np.diag(diagonal)\n",
        "matN"
      ],
      "execution_count": 9,
      "outputs": [
        {
          "output_type": "execute_result",
          "data": {
            "text/plain": [
              "array([[1, 0, 0],\n",
              "       [0, 2, 0],\n",
              "       [0, 0, 3]])"
            ]
          },
          "metadata": {
            "tags": []
          },
          "execution_count": 9
        }
      ]
    },
    {
      "cell_type": "markdown",
      "metadata": {
        "id": "3vC6Hw1_vwY9"
      },
      "source": [
        "Recall: We need to solve\n",
        "$$ \\dot{H} = \\Big[ H, [H, N] \\Big] \\tag{1}$$\n",
        "where $[A, B]=AB-BA$ is the **Lie bracket**."
      ]
    },
    {
      "cell_type": "code",
      "metadata": {
        "id": "p9f_mDiqvxFQ"
      },
      "source": [
        "def lie_bracket(A, B):\n",
        "    return A @ B - B @ A"
      ],
      "execution_count": 10,
      "outputs": []
    },
    {
      "cell_type": "code",
      "metadata": {
        "id": "-RQMocT3xC8n"
      },
      "source": [
        "def brocket_flow_derivative(H, t, N):\n",
        "    H = H.reshape(N.shape)\n",
        "    H = lie_bracket(H, lie_bracket(H, N))\n",
        "    return H.flatten()"
      ],
      "execution_count": 11,
      "outputs": []
    },
    {
      "cell_type": "markdown",
      "metadata": {
        "id": "VlnJNDRbX417"
      },
      "source": [
        "**Alternative:** Of course it is also possible to write the Brocket-flow as follows:\n",
        "\n",
        "$\\begin{eqnarray} &\\dot{H} &=& \\Big[ H, [H, N] \\Big]\\\\\n",
        "&&=& H[H,N] - [H,N]H\\\\\n",
        "&&=& H(HN-NH) - (HN-NH)H\\\\\n",
        "&&=& HHN-HNH - HNH-NHH\\\\\n",
        "&&=& HHN-2 HNH-NHH\\\\\n",
        "\\end{eqnarray} $"
      ]
    },
    {
      "cell_type": "code",
      "metadata": {
        "id": "7gACJN3v2Mdo"
      },
      "source": [
        "# In order to pass a vector to 'odeint' we flatten the given matrix\n",
        "vecH = matH.flatten()"
      ],
      "execution_count": 12,
      "outputs": []
    },
    {
      "cell_type": "code",
      "metadata": {
        "id": "C7yZe5zwkkli"
      },
      "source": [
        "# Set up the time steps for ODE solver\n",
        "steps = np.linspace(0, 4, 101)\n",
        "   \n",
        "# Use 'odeint' to solve the Brockett flow\n",
        "tenH = odeint(brocket_flow_derivative, vecH, steps, (matN,))"
      ],
      "execution_count": 13,
      "outputs": []
    },
    {
      "cell_type": "code",
      "metadata": {
        "colab": {
          "base_uri": "https://localhost:8080/"
        },
        "id": "bm28qH_Rk6ZF",
        "outputId": "a99ba763-b82e-4150-96af-4c9964068e01"
      },
      "source": [
        "# Print a stable point (= the point the flow converges to)\n",
        "matH = tenH[-1].reshape(matN.shape)\n",
        "print(f\"The eigenvalues according to 'odeint'/Brockett-flow are:\\n{np.diag(matH)}\")\n",
        "print(f\"The eigenvalues according to 'la.eigh' were:\\n{matU_eigen_values}\")\n",
        "print(f\"\\n\\nThe differences are:\\n{np.diag(matH) - matU_eigen_values}\")"
      ],
      "execution_count": 14,
      "outputs": [
        {
          "output_type": "stream",
          "text": [
            "The eigenvalues according to 'odeint'/Brockett-flow are:\n",
            "[0.74366561 1.43170879 5.11379406]\n",
            "The eigenvalues according to 'la.eigh' were:\n",
            "[0.74242585 1.43294852 5.11379409]\n",
            "\n",
            "\n",
            "The differences are:\n",
            "[ 1.23975968e-03 -1.23972783e-03 -3.18509308e-08]\n"
          ],
          "name": "stdout"
        }
      ]
    },
    {
      "cell_type": "code",
      "metadata": {
        "id": "q68D9_TplcWp"
      },
      "source": [
        "# Extract diagonals of matrices 'matH' in 'tenH' \n",
        "flow = np.array([np.diag(t.reshape(matN.shape)) for t in tenH])\n",
        "flow = flow.T"
      ],
      "execution_count": 15,
      "outputs": []
    },
    {
      "cell_type": "markdown",
      "metadata": {
        "id": "p7BESqpqlfIL"
      },
      "source": [
        "##### Lets plot the evolution over time"
      ]
    },
    {
      "cell_type": "code",
      "metadata": {
        "colab": {
          "base_uri": "https://localhost:8080/",
          "height": 133
        },
        "id": "gv8WjP_RllFl",
        "outputId": "72baeec4-b112-4119-af4f-7978556a0f9a"
      },
      "source": [
        "# Initialize figure and axes\n",
        "fig = plt.figure()\n",
        "fig.patch.set_facecolor('w')\n",
        "axs = fig.add_subplot('211', facecolor='#e0e0e0')\n",
        "\n",
        "\n",
        "# Improve the way of showing coordinate axes\n",
        "for pos in ['left','bottom']:\n",
        "    axs.spines[pos].set_position('zero')\n",
        "    axs.spines[pos].set_zorder(1)\n",
        "\n",
        "for pos in ['right','top']:\n",
        "    axs.spines[pos].set_visible(False)\n",
        "    \n",
        "axs.xaxis.set_ticks_position('bottom')\n",
        "axs.yaxis.set_ticks_position('left')\n",
        "axs.tick_params(direction='out')\n",
        "\n",
        "for i, lt in enumerate(flow):\n",
        "    axs.plot(steps, lt, '-', label=r'$H_{%i%i}(t)$' % (i+1,i+1))\n",
        "\n",
        "leg = axs.legend(bbox_to_anchor=(1.01,0.0,0.2,1), loc=\"upper left\",\n",
        "                    mode=\"expand\",\n",
        "                    borderaxespad=0.,\n",
        "                    facecolor='#e0e0e0', edgecolor='#e0e0e0',\n",
        "                    fancybox=False)\n",
        "\n",
        "axs.set_xlim(-0.5, np.max(steps+0.1))\n",
        "axs.set_ylim(-1.0, 6)\n",
        "ytics = np.linspace(0, 5, 6)\n",
        "#ylabs = ['${0:{1}}$'.format(t, '+' if t else '') for t in ytics]\n",
        "ylabs = ['${0:{1}}$'.format(t, '') for t in ytics]\n",
        "axs.set_yticks(ytics)\n",
        "_ = axs.set_yticklabels(ylabs)\n",
        "\n",
        "fname = 'BrockettEvFlow.pdf'\n",
        "fmt = fname.split('.')[-1]\n",
        "fig.savefig(fname, facecolor=fig.get_facecolor(), edgecolor='w',\n",
        "            papertype='letter', format=fmt, transparent=False,\n",
        "            pad_inches=0)  \n",
        "\n",
        "fig.show()"
      ],
      "execution_count": 16,
      "outputs": [
        {
          "output_type": "display_data",
          "data": {
            "image/png": "[encoded data removed]",
            "text/plain": [
              "<Figure size 432x288 with 1 Axes>"
            ]
          },
          "metadata": {
            "tags": []
          }
        }
      ]
    },
    {
      "cell_type": "markdown",
      "metadata": {
        "id": "h58JiI_Y7QlA"
      },
      "source": [
        "---\n",
        "## Exercise 2 - The Brockett double bracket flow (part 2)\n"
      ]
    },
    {
      "cell_type": "markdown",
      "metadata": {
        "id": "4-8QLZ3Q7U1F"
      },
      "source": [
        "If the QR algorithm is a dicretized Toda flow which is a specialized Brockett flow, then the Brocket flow should be able to sort, right? Indeed, it is!\n",
        "\n",
        "To see an example, implement the following procedure in numpy / scipy \n",
        "1. Assume you were given a vector\n",
        "$$ x = \\begin{bmatrix} x_1 & x_2 & x_3 & \\dots x_n \\end{bmatrix}^\\intercal $$\n",
        "consisting of $n$ elements $x_i\\in\\mathbb{R}$.\n",
        "1. Create an $n\\times n$ tri-diagonal matrix $H$ whose main diagonal contains the elements of $x$ and whose off diagonals contain a fixed small number $\\epsilon$.\n",
        "$$ H= \\begin{bmatrix} \n",
        "x_1 & \\epsilon & & & \\\\\n",
        "\\epsilon & x_2 & \\epsilon & & \\\\\n",
        "& \\epsilon & x_3 & \\epsilon & \\\\\n",
        "& & & \\dots & \\epsilon \\\\\n",
        "& & & \\epsilon & x_n \\\\\n",
        "\\end{bmatrix} $$\n",
        "1. Create an $n\\times n$ diagonal matrix $N$ whose main diagonal contains the sorted list of numbers $1, 2, \\dots , n$\n",
        "$$ N= \\begin{bmatrix} \n",
        "1 & & & & \\\\ \n",
        " & 2 & & & \\\\ \n",
        " & & 3 & & \\\\ \n",
        " & & & \\ddots & \\\\\n",
        " & & & & n\\\\\n",
        "\\end{bmatrix} $$\n",
        "1. use odeint to solve the Brockett flow in (1)\n",
        "1. print the diagonal of matrix $H(T)$"
      ]
    },
    {
      "cell_type": "markdown",
      "metadata": {
        "id": "6XwdyAaSH-Hu"
      },
      "source": [
        "As a specific example, run you code with the following input and parameter\n",
        "\n",
        "$ x = \\begin{bmatrix} 4 & −3 & 2 & 7 & 12 & 1 \\end{bmatrix}^\\intercal $\n",
        "\n",
        "$ \\epsilon\u000f = 0.01 $"
      ]
    },
    {
      "cell_type": "code",
      "metadata": {
        "colab": {
          "base_uri": "https://localhost:8080/"
        },
        "id": "3H__Q3VNITti",
        "outputId": "bbd5d1ed-c95f-412e-81b5-76f1bc350f60"
      },
      "source": [
        "# Task 1. - vector x to be sorted and dimension n\n",
        "vecX = np.transpose([4, -3, 2, 7, 12, 1])\n",
        "n = vecX.size\n",
        "epsilon = 0.01\n",
        "vecX"
      ],
      "execution_count": 17,
      "outputs": [
        {
          "output_type": "execute_result",
          "data": {
            "text/plain": [
              "array([ 4, -3,  2,  7, 12,  1])"
            ]
          },
          "metadata": {
            "tags": []
          },
          "execution_count": 17
        }
      ]
    },
    {
      "cell_type": "code",
      "metadata": {
        "colab": {
          "base_uri": "https://localhost:8080/"
        },
        "id": "7Mj6nKijA4Ub",
        "outputId": "ad0284af-3421-49cf-f0e6-a944c2eb1507"
      },
      "source": [
        "# Task 2 - matrix H\n",
        "matH = np.diag(vecX) \\\n",
        "           + epsilon * np.diag(np.ones(n-1), +1) \\\n",
        "           + epsilon * np.diag(np.ones(n-1), -1)\n",
        "matH"
      ],
      "execution_count": 18,
      "outputs": [
        {
          "output_type": "execute_result",
          "data": {
            "text/plain": [
              "array([[ 4.0e+00,  1.0e-02,  0.0e+00,  0.0e+00,  0.0e+00,  0.0e+00],\n",
              "       [ 1.0e-02, -3.0e+00,  1.0e-02,  0.0e+00,  0.0e+00,  0.0e+00],\n",
              "       [ 0.0e+00,  1.0e-02,  2.0e+00,  1.0e-02,  0.0e+00,  0.0e+00],\n",
              "       [ 0.0e+00,  0.0e+00,  1.0e-02,  7.0e+00,  1.0e-02,  0.0e+00],\n",
              "       [ 0.0e+00,  0.0e+00,  0.0e+00,  1.0e-02,  1.2e+01,  1.0e-02],\n",
              "       [ 0.0e+00,  0.0e+00,  0.0e+00,  0.0e+00,  1.0e-02,  1.0e+00]])"
            ]
          },
          "metadata": {
            "tags": []
          },
          "execution_count": 18
        }
      ]
    },
    {
      "cell_type": "code",
      "metadata": {
        "colab": {
          "base_uri": "https://localhost:8080/"
        },
        "id": "hrm4PZZfAtuP",
        "outputId": "6da1770b-d120-4dd0-96b4-ae97193ca016"
      },
      "source": [
        "# Task 3 - matrix N\n",
        "matN = np.diag(np.arange(n)+ 1).astype(float)\n",
        "matN"
      ],
      "execution_count": 19,
      "outputs": [
        {
          "output_type": "execute_result",
          "data": {
            "text/plain": [
              "array([[1., 0., 0., 0., 0., 0.],\n",
              "       [0., 2., 0., 0., 0., 0.],\n",
              "       [0., 0., 3., 0., 0., 0.],\n",
              "       [0., 0., 0., 4., 0., 0.],\n",
              "       [0., 0., 0., 0., 5., 0.],\n",
              "       [0., 0., 0., 0., 0., 6.]])"
            ]
          },
          "metadata": {
            "tags": []
          },
          "execution_count": 19
        }
      ]
    },
    {
      "cell_type": "code",
      "metadata": {
        "id": "M4IStqKgCqsZ"
      },
      "source": [
        "# Task 4\n",
        "# Initialize the matrix-representing vector\n",
        "vecH = matH.flatten()\n",
        "    \n",
        "# Time steps for ODE solver\n",
        "steps = np.linspace(0, 20, 101)\n",
        "    \n",
        "# Use odeint to solve the Brockett flow\n",
        "tenH = odeint(brocket_flow_derivative, vecH, steps, (matN,))"
      ],
      "execution_count": 20,
      "outputs": []
    },
    {
      "cell_type": "code",
      "metadata": {
        "colab": {
          "base_uri": "https://localhost:8080/"
        },
        "id": "DgFNcC6FCr1t",
        "outputId": "d901416b-47de-44e2-bc33-327419be727c"
      },
      "source": [
        "# Task 5\n",
        "# Print stable point (point the flow converges to)\n",
        "matH = tenH[-1].reshape(matN.shape)\n",
        "print ('Elements of sorted x:', np.round(np.diag(matH), 0).astype(int))"
      ],
      "execution_count": 21,
      "outputs": [
        {
          "output_type": "stream",
          "text": [
            "Elements of sorted x: [-3  1  2  4  7 12]\n"
          ],
          "name": "stdout"
        }
      ]
    },
    {
      "cell_type": "markdown",
      "metadata": {
        "id": "-fhYMe5ml7xo"
      },
      "source": [
        "---\n",
        "## Exercise 3 - Hopfield nets can sort\n"
      ]
    },
    {
      "cell_type": "markdown",
      "metadata": {
        "id": "EwzL_-Qj-wMn"
      },
      "source": [
        "Hopfield nets are fairly versatile problem solvers. Among others, they can sort.\n",
        "\n",
        "The following technical report discusses how the sorting problem can be cast a QUBO over binary vectors $z \\in\\{0, 1\\}^m$\n",
        "- C. Bauckhage and P. Welke [“ML2R Coding Nuggets: Sorting as a QUBO”](https://www.researchgate.net/publication/351624487_ML2R_Coding_Nuggets_Sorting_as_a_QUBO), technical report, 2021"
      ]
    },
    {
      "cell_type": "markdown",
      "metadata": {
        "id": "AyqwEx_XIv9m"
      },
      "source": [
        "In particular, it show the following: when dealing with an $n$-dimensional, real valued vector\n",
        "\n",
        "$x = \\begin{bmatrix} x_1 & x_2 & \\dots & x_n \\end{bmatrix}^\\intercal $\n",
        "\n",
        "of unsorted entries $x_l$, a QUBO formulation of the sorting problem is\n",
        "$$ z^* = \\underset{z\\in \\{0, 1\\}^{n^2}}{\\text{argmin}}\\ z^\\intercal R z - r^\\intercal z \\tag{2}$$"
      ]
    },
    {
      "cell_type": "markdown",
      "metadata": {
        "id": "82a3awImJauM"
      },
      "source": [
        "The parameters of this QUBO, i.e. matrix $R\\in\\mathbb{R}^{n^2\\times n^2}$ and vector $r\\in\\mathbb{R}^{n^2}$ are computed as \n",
        "- $C_r = \\textbf{1}^\\intercal \\otimes \\mathbb{I} \\quad \\in\\mathbb{R}^{n\\times n^2}$\n",
        "- $C_c = \\mathbb{I} \\otimes \\textbf{1}^\\intercal \\quad \\in\\mathbb{R}^{n\\times n^2}$\n",
        "- $R = \\lambda_r C_r^\\intercal C_r + \\lambda_c C_c^\\intercal C_c \\quad\\in\\mathbb{R}^{n^2\\times n^2}$\n",
        "- $r = N^\\intercal x + 2 (\\lambda_r C_r + \\lambda_c C_c)^\\intercal \\textbf{1} \\quad \\in\\mathbb{R}^{n^2}$\n",
        "- $N = \\mathbb{I} \\otimes n^\\intercal \\quad \\in\\mathbb{R}^{n^2}$\n",
        "- $n = \\begin{bmatrix} 1 & 2 & \\dots & n \\end{bmatrix}^\\intercal \\quad \\in\\mathbb{R}^{n}$"
      ]
    },
    {
      "cell_type": "markdown",
      "metadata": {
        "id": "IaDqW8YxKPEk"
      },
      "source": [
        "where $\\mathbb{I}$ and $\\otimes$ are the $n\\times n$ identity matrix and the Kronecker product and the two scalars $\\lambda_r$ and $\\lambda_c$ are Lagrange multipliers which we treat as parameters that have to be set manually.\n",
        "\n",
        "Once the problem in (2) has been solved for $z^∗$, we can turn that solution into an $n\\times n$ permutation matrix $P^\\intercal = \\text{mat}(z^∗)$ which then allows us to compute a sorted version $y = P x$ of $x$."
      ]
    },
    {
      "cell_type": "markdown",
      "metadata": {
        "id": "A9DYVUMAKjw6"
      },
      "source": [
        "**NOTE:** (2) is is written in terms of binary vectors $z$. However, for the Hopfield networks we are interested in, we require problem formulations in terms of bipolar vectors s, namely\n",
        "$$ z^* = \\underset{s\\in \\{-1, +1\\}^{n^2}}{\\text{argmin}}\\ -\\frac{1}{2} s^\\intercal W s - \\theta^\\intercal s \\tag{3}$$"
      ]
    },
    {
      "cell_type": "markdown",
      "metadata": {
        "id": "SCUDhktmLWTm"
      },
      "source": [
        "### 3.1. Rewrite the problem in (2) such that is of the form in (3) (and make sure that the corresponding matrix $W$ is hollow). This is possible. You just need to be diligent with your algebraic manipulations."
      ]
    },
    {
      "cell_type": "markdown",
      "metadata": {
        "id": "brsNw8tRIEx6"
      },
      "source": [
        "To get from binary to bipolar vectors we substitute $z= \\frac{1}{2}(s+1)$:\n",
        "\n",
        "$\\begin{eqnarray}\n",
        "s^*&=&\\underset{s\\in \\{\\pm 1\\}^n}{\\text{argmin}}\\ \\frac{1}{4}(s+\\mathbf{1})^\\intercal R (s+\\mathbf{1}) - \\frac{1}{2}r^\\intercal (s+\\mathbf{1})\\\\\n",
        "&=&\\underset{s\\in \\{\\pm 1\\}^n}{\\text{argmin}}\\ \\frac{1}{4} \\big( s^\\intercal + \\mathbf{1}^\\intercal \\big) \\big( Rs + R\\mathbf{1} \\big) - \\frac{1}{2}\\big( r^\\intercal s + \\color{grey}{q^\\intercal 1}\\big)\\\\\n",
        "&=&\\underset{s\\in \\{\\pm 1\\}^n}{\\text{argmin}}\\ \\frac{1}{4} \\big( s^\\intercal Rs + s^\\intercal R\\mathbf{1} + \\mathbf{1}^\\intercal  Rs + \\color{grey}{\\mathbf{1}^\\intercal R\\mathbf{1}} \\big) - \\frac{1}{2} r^\\intercal s\\\\\n",
        "&=&\\underset{s\\in \\{\\pm 1\\}^n}{\\text{argmin}}\\ \\frac{1}{4} s^\\intercal Rs + \\frac{1}{2}\\mathbf{1}^\\intercal Rs - \\frac{1}{2} r^\\intercal s\\\\\n",
        "&=&\\underset{s\\in \\{\\pm 1\\}^n}{\\text{argmin}}\\ \\frac{1}{4} s^\\intercal Rs + \\frac{1}{2} \\big( \\mathbf{1}^\\intercal R-r^\\intercal)s\\\\\n",
        "&=&\\underset{s\\in \\{\\pm 1\\}^n}{\\text{argmin}}\\ \\frac{1}{4} s^\\intercal Rs - \\frac{1}{2} \\big( r^\\intercal - \\mathbf{1}^\\intercal R ) \\ s\\\\\n",
        "&=&\\underset{s\\in \\{\\pm 1\\}^n}{\\text{argmin}}\\ \\frac{1}{4} s^\\intercal Rs - \\Big( \\frac{1}{2} \\big( r- R^\\intercal\\mathbf{1} )\\Big)^\\intercal\\ s\\\\\n",
        "&=&\\underset{s\\in \\{\\pm 1\\}^n}{\\text{argmin}}\\ \\frac{1}{4} s^\\intercal Rs - \\Big( \\underbrace{\\frac{1}{2} \\big( r- R\\mathbf{1} )}_{=:\\ \\theta}\\Big)^\\intercal\\ s\n",
        "\\end{eqnarray}$"
      ]
    },
    {
      "cell_type": "markdown",
      "metadata": {
        "id": "VfZurdOWJYWL"
      },
      "source": [
        "Due to the definition of $C_r$ and $C_c$, $R$ is not hollow. On the diagonal is the sum $\\lambda_r + \\lambda_c$. Thus we get a hollow formulation as follows:\n",
        "\n",
        "$\\begin{eqnarray}\n",
        "\\frac{1}{4} s^\\intercal Rs &=& \\frac{1}{4} s^\\intercal \\Big( \\lambda_r C_r^\\intercal C_r + \\lambda_c C_c^\\intercal C_c \\Big)s &&\\text{Definition of }R\\\\\n",
        "&=& \\frac{1}{4} s^\\intercal \\Big( \\lambda_r C_r^\\intercal C_r + \\lambda_c C_c^\\intercal C_c -(\\lambda_r+\\lambda_c)\\mathbb{I}+(\\lambda_r+\\lambda_c)\\mathbb{I}\\Big)s &&\\text{Adding zero}\\\\\n",
        "&=& \\frac{1}{4} s^\\intercal \\Big( \\lambda_r C_r^\\intercal C_r + \\lambda_c C_c^\\intercal C_c -(\\lambda_r+\\lambda_c)\\mathbb{I}\\Big)s \\color{grey}{\\ +\\frac{1}{4}s^\\intercal(\\lambda_r+\\lambda_c)\\mathbb{I} s}\\\\\n",
        "&=& \\frac{1}{4} s^\\intercal \\Big( \\lambda_r \\big(C_r^\\intercal C_r-\\mathbb{I}\\big) + \\lambda_c \\big(C_c^\\intercal C_c -\\mathbb{I}\\big)\\Big)s \\color{grey}{\\ +\\frac{1}{4}s^\\intercal(\\lambda_r+\\lambda_c)\\mathbb{I} s}\\\\\n",
        "\\end{eqnarray}$\n",
        "\n",
        "Note that this implies, that we can simply take $R$ for the initialization of the weight matrix, and then simply set the diagonal elements of the weight matrix to zero."
      ]
    },
    {
      "cell_type": "markdown",
      "metadata": {
        "id": "wdqsF7H_LBxC"
      },
      "source": [
        "Thus we obtain the desired form\n",
        "$$ z^* = \\underset{s\\in \\{-1, +1\\}^{n^2}}{\\text{argmin}}\\ \\frac{1}{2} s^\\intercal W s - \\theta^\\intercal s \\tag{3}$$\n",
        "\n",
        "by setting:\n",
        "- $W := -2 Q  \\quad\\in\\mathbb{R}^{n^2\\times n^2}$\n",
        "- $q := \\frac{1}{2} \\big( r- R\\mathbf{1})^\\intercal  \\quad\\in\\mathbb{R}^{n^2}$\n",
        "\n",
        "where:\n",
        "- $Q := \\frac{1}{4}\\Big( R -(\\lambda_r+\\lambda_c)\\mathbb{I}\\Big) \\quad\\in\\mathbb{R}^{n^2\\times n^2}$\n",
        "- $C_r = \\textbf{1}^\\intercal \\otimes \\mathbb{I} \\quad \\in\\mathbb{R}^{n\\times n^2}$\n",
        "- $C_c = \\mathbb{I} \\otimes \\textbf{1}^\\intercal \\quad \\in\\mathbb{R}^{n\\times n^2}$\n",
        "- $R = \\lambda_r C_r^\\intercal C_r + \\lambda_c C_c^\\intercal C_c \\quad\\in\\mathbb{R}^{n^2\\times n^2}$\n",
        "- $r = N^\\intercal x + 2 (\\lambda_r C_r + \\lambda_c C_c)^\\intercal \\textbf{1} \\quad \\in\\mathbb{R}^{n^2}$\n",
        "- $N = \\mathbb{I} \\otimes n^\\intercal \\quad \\in\\mathbb{R}^{n^2}$\n",
        "- $n = \\begin{bmatrix} 1 & 2 & \\dots & n \\end{bmatrix}^\\intercal \\quad \\in\\mathbb{R}^{n}$"
      ]
    },
    {
      "cell_type": "markdown",
      "metadata": {
        "id": "53YEasuBOHwx"
      },
      "source": [
        "###### Helper functions"
      ]
    },
    {
      "cell_type": "code",
      "metadata": {
        "id": "9XFWyLrio9mA"
      },
      "source": [
        "def signum(x):\n",
        "    return np.where(x >= 0, +1, -1)"
      ],
      "execution_count": 33,
      "outputs": []
    },
    {
      "cell_type": "code",
      "metadata": {
        "id": "oQJgVHhdo92-"
      },
      "source": [
        "def hnet_energy(vecS, matW, vecT):\n",
        "    return -0.5 * vecS @ matW @ vecS + vecT @ vecS"
      ],
      "execution_count": 34,
      "outputs": []
    },
    {
      "cell_type": "code",
      "metadata": {
        "id": "xBC6rQ45pAfD"
      },
      "source": [
        "def hnet_print_time_state_energy(vecS, matW, vecT, t):\n",
        "    s = ''.join(['+' if x >= 0 else '-' for x in vecS])\n",
        "    E = hnet_energy(vecS, matW, vecT)\n",
        "    print ('{:4d}  {}  {:+.1f}'.format(t, s, E))"
      ],
      "execution_count": 35,
      "outputs": []
    },
    {
      "cell_type": "markdown",
      "metadata": {
        "id": "GOX2rp45pDhI"
      },
      "source": [
        "###### Parameter Initialization"
      ]
    },
    {
      "cell_type": "code",
      "metadata": {
        "id": "n0bRu2XqOKbE"
      },
      "source": [
        "def hnet_init_sort_parameters(vecX, lambda_r=None, lambda_c=None):\n",
        "    n = len(vecX)\n",
        "\n",
        "    vecN = np.arange(n) + 1\n",
        "\n",
        "    matI = np.eye(n)\n",
        "    vec1 = np.ones(n)\n",
        "\n",
        "    matN  = np.kron(matI, vecN)\n",
        "    matCc = np.kron(matI, vec1)\n",
        "    matCr = np.kron(vec1, matI)\n",
        "\n",
        "    if lambda_r is None or lambda_c is None:\n",
        "        vecX = vecX / np.sum(vecX)\n",
        "        lambda_r = lambda_c = n\n",
        "\n",
        "    matR = lambda_r * matCr.T @ matCr + lambda_c * matCc.T @ matCc\n",
        "    vecR = vecX @ matN + 2 * vec1 @ (lambda_r * matCr + lambda_c * matCc)\n",
        "\n",
        "    matQ = 0.25 * matR\n",
        "    vecQ = 0.50 * (matR @ np.ones(n**2) - vecR)\n",
        "    \n",
        "    # Set the diagonal entries to zero to get a hollow weight matrix\n",
        "    matW = -2 * matQ; np.fill_diagonal(matW, 0)\n",
        "\n",
        "    vecT = vecQ\n",
        "\n",
        "    return matW, vecT"
      ],
      "execution_count": 56,
      "outputs": []
    },
    {
      "cell_type": "markdown",
      "metadata": {
        "id": "vPclNZRALcgk"
      },
      "source": [
        "### 3.2. Implement each of the following 4 algorithms for running a Hopfield network in numpy:\n",
        "- random selection of updating neuron\n",
        "- round robin selection of updating neuron\n",
        "- greedy selection of updating neuron\n",
        "- simulated annealing"
      ]
    },
    {
      "cell_type": "markdown",
      "metadata": {
        "id": "944LVHcUNuAr"
      },
      "source": [
        "###### Some helper functions"
      ]
    },
    {
      "cell_type": "markdown",
      "metadata": {
        "id": "PXU4y_cdNQ6O"
      },
      "source": [
        "#### 3.2. - Random selection of updating neuron"
      ]
    },
    {
      "cell_type": "code",
      "metadata": {
        "id": "R87i2ENBLg2V"
      },
      "source": [
        "def hnet_run_random(vecS, matW, vecT, tmax=100):\n",
        "    \"\"\"\n",
        "    This function implements the Hopfield network with random update:\n",
        "    For every of the 'tmax' updates, get a random index of the state\n",
        "    that shall be updated.\n",
        "    \"\"\"\n",
        "    for t, u in enumerate(rnd.randint(0, len(vecS), tmax)):\n",
        "        hnet_print_time_state_energy(vecS, matW, vecT, t)\n",
        "\n",
        "        vecS[u] = signum(matW[u] @ vecS - vecT[u])\n",
        "\n",
        "    return vecS"
      ],
      "execution_count": 37,
      "outputs": []
    },
    {
      "cell_type": "markdown",
      "metadata": {
        "id": "GP3OB50WNU2Y"
      },
      "source": [
        "#### 3.2. - Round robin selection of updating neuron"
      ]
    },
    {
      "cell_type": "code",
      "metadata": {
        "id": "H0awo_NQNZ_1"
      },
      "source": [
        "def hnet_run_round_robin(vecS, matW, vecT, rmax=100):\n",
        "    \"\"\"\n",
        "    This function implements the Hopfield network with round Robin update:\n",
        "    For every of the 'tmax' updates, iterate/update all states\n",
        "    of the network.\n",
        "    \"\"\"\n",
        "    t = 0\n",
        "    for r in range(rmax):\n",
        "        for u in range(len(vecS)):\n",
        "            hnet_print_time_state_energy(vecS, matW, vecT, t)\n",
        "\n",
        "            vecS[u] = signum(matW[u] @ vecS - vecT[u])\n",
        "\n",
        "            t += 1\n",
        "            \n",
        "    return vecS"
      ],
      "execution_count": 38,
      "outputs": []
    },
    {
      "cell_type": "markdown",
      "metadata": {
        "id": "YY9DLDviNaVA"
      },
      "source": [
        "#### 3.2. - Greedy selection of updating neuron"
      ]
    },
    {
      "cell_type": "code",
      "metadata": {
        "id": "Xk62vegpNdtp"
      },
      "source": [
        "def hnet_run_greedy(vecS, matW, vecT, tmax=100):\n",
        "    \"\"\"\n",
        "    This function implements the Hopfield network with greedy update:\n",
        "    For every of the 'tmax' updates, compute the gradient of the energy to determine\n",
        "    the steepest descent. Then only update the state, that promises this steepest\n",
        "    descent.\n",
        "    \"\"\"\n",
        "    for t in range(tmax):\n",
        "        hnet_print_time_state_energy(vecS, matW, vecT, t)\n",
        "\n",
        "        gradient = matW @ vecS - vecT\n",
        "        delta = vecS * gradient\n",
        "        update_index = np.argmin(delta)\n",
        "        vecS[update_index] = signum(gradient[update_index])\n",
        "\n",
        "    return vecS"
      ],
      "execution_count": 39,
      "outputs": []
    },
    {
      "cell_type": "markdown",
      "metadata": {
        "id": "O0JaEF9WNeD_"
      },
      "source": [
        "#### 3.2. - Simulated annealing"
      ]
    },
    {
      "cell_type": "code",
      "metadata": {
        "id": "OfHJkwHDNg76"
      },
      "source": [
        "def hnet_simulated_annealing(vecS, matW, vecT, temperature_high=10, temperature_low=0.5,\n",
        "                           steps=21, rmax=100):\n",
        "    \"\"\"\n",
        "    This function implements the Hopfield network with simulated annealing:\n",
        "    While decreasing the \"temperature\", iterate through all 'rmax' number of \n",
        "    updates and update every state with binomially distributed likelyhood.\n",
        "    \"\"\"    \n",
        "    vecX = np.copy(vecS)\n",
        "    t = 0\n",
        "    for T in np.linspace(temperature_high, temperature_low, steps):\n",
        "        for r in range(rmax):\n",
        "            hnet_print_time_state_energy(vecS, matW, vecT, t)\n",
        "                \n",
        "            for i in range(len(vecS)):\n",
        "                q = 1 / (1 + np.exp(-2/T * (matW[i] @ vecS - vecT[i])))\n",
        "                z = rnd.binomial(n=1, p=q)\n",
        "                vecS[i] = 2 * z - 1\n",
        "\n",
        "                t = t+1\n",
        "\n",
        "    return vecS "
      ],
      "execution_count": 40,
      "outputs": []
    },
    {
      "cell_type": "markdown",
      "metadata": {
        "id": "qZVQPAbgNGyi"
      },
      "source": [
        "### 3.3. Use each of the above algorithm to run a Hopfield net that sorts the entries of vector\n",
        "$ x = \\begin{bmatrix} 4 & −3 & 2 & 7 & 12 & 1 \\end{bmatrix}^\\intercal $\n",
        "\n",
        "In each iteration $t$ of each algorithm print the iteration $t$, the current state $s_t$, and the energy $H_t$. To this end you may use the following snippet:"
      ]
    },
    {
      "cell_type": "code",
      "metadata": {
        "id": "TVLZuiu-Rryw"
      },
      "source": [
        "# Setup of the input\n",
        "vecX = np.array([4, -3, 2, 7, 12, 1])\n",
        "    \n",
        "# Setup of the network initialization\n",
        "matW, vecT = hnet_init_sort_parameters(vecX)\n",
        "\n",
        "n = len(vecX)\n",
        "vecS = -np.ones(n**2)"
      ],
      "execution_count": 57,
      "outputs": []
    },
    {
      "cell_type": "markdown",
      "metadata": {
        "id": "hBXEU7xzN0Xz"
      },
      "source": [
        "For each update mechanism, experiment with different initial states $s_0$ and different choices of their parameters ($t_{\\text{max}}$, $r_{\\text{max}}$, $T_h$, $T_l$, number of steps\n",
        "between $T_h$ and $T_l \\dots$). What do you observe?"
      ]
    },
    {
      "cell_type": "code",
      "metadata": {
        "colab": {
          "base_uri": "https://localhost:8080/"
        },
        "id": "oKe_e0xUpUwx",
        "outputId": "407ef2fb-1b96-4461-8073-8bb1024d8a07"
      },
      "source": [
        "# vecS = hnet_run_random(vecS, matW, vecT, tmax=100) # Gets stuck easily\n",
        "# vecS = hnet_run_round_robin(vecS, matW, vecT, rmax=100) # Gets stuck easily\n",
        "vecS = hnet_run_greedy(vecS, matW, vecT, tmax=10) # Sorts fast\n",
        "# vecS = hnet_simulated_annealing(vecS, matW, vecT) # Gets stuck easily\n",
        "\n",
        "matP = np.where(vecS>0, 1, 0).reshape(n,n).T\n",
        "print(f\"Attempt to sort the vector:\\t{matP@vecX}\")"
      ],
      "execution_count": 58,
      "outputs": [
        {
          "output_type": "stream",
          "text": [
            "   0  ------------------------------------  -313.5\n",
            "   1  -----------------------------+------  -328.6\n",
            "   2  ----------------------+------+------  -342.2\n",
            "   3  ---+------------------+------+------  -354.8\n",
            "   4  ---+----------+-------+------+------  -367.1\n",
            "   5  ---+----------+-------+------+-+----  -379.2\n",
            "   6  ---+--+-------+-------+------+-+----  -391.1\n",
            "   7  ---+--+-------+-------+------+-+----  -391.1\n",
            "   8  ---+--+-------+-------+------+-+----  -391.1\n",
            "   9  ---+--+-------+-------+------+-+----  -391.1\n",
            "Attempt to sort the vector:\t[-3  1  2  4  7 12]\n"
          ],
          "name": "stdout"
        }
      ]
    },
    {
      "cell_type": "markdown",
      "metadata": {
        "id": "kuSITkUWOFGj"
      },
      "source": [
        "For each update mechanism, print an excerpt of the corresponding temporal evolution and paste them here (do not overdo this pasting, just show a couple of lines in each case)."
      ]
    }
  ]
}